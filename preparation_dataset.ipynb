{
 "cells": [
  {
   "metadata": {},
   "cell_type": "markdown",
   "source": "# Modélisation et Évaluation",
   "id": "137e46b4a55ce95a"
  },
  {
   "metadata": {
    "ExecuteTime": {
     "end_time": "2025-07-13T16:16:18.734001Z",
     "start_time": "2025-07-13T16:16:18.732428Z"
    }
   },
   "cell_type": "code",
   "source": [
    "import pandas as pd\n",
    "from sklearn.model_selection import train_test_split\n",
    "import numpy as np"
   ],
   "id": "f5a3db4bd4b4fa3b",
   "outputs": [],
   "execution_count": 29
  },
  {
   "metadata": {},
   "cell_type": "markdown",
   "source": "## Dataset Iris",
   "id": "509842a07e9aae27"
  },
  {
   "metadata": {
    "ExecuteTime": {
     "end_time": "2025-07-13T14:07:40.789668Z",
     "start_time": "2025-07-13T14:07:40.778577Z"
    }
   },
   "cell_type": "code",
   "source": [
    "# Chargement des données\n",
    "iris_df = pd.read_csv(\"iris.csv\")\n",
    "print(iris_df.head())\n",
    "\n"
   ],
   "id": "616303897e05be7",
   "outputs": [
    {
     "name": "stdout",
     "output_type": "stream",
     "text": [
      "   sepal.length  sepal.width  petal.length  petal.width variety\n",
      "0           5.1          3.5           1.4          0.2  Setosa\n",
      "1           4.9          3.0           1.4          0.2  Setosa\n",
      "2           4.7          3.2           1.3          0.2  Setosa\n",
      "3           4.6          3.1           1.5          0.2  Setosa\n",
      "4           5.0          3.6           1.4          0.2  Setosa\n"
     ]
    }
   ],
   "execution_count": 13
  },
  {
   "metadata": {
    "ExecuteTime": {
     "end_time": "2025-07-13T14:07:40.841626Z",
     "start_time": "2025-07-13T14:07:40.839274Z"
    }
   },
   "cell_type": "code",
   "source": [
    "# Séparation des variables\n",
    "# Créer un df Y avec seulement la colonne variety, car c'est ce qu'on veut prédire\n",
    "y = iris_df['variety']\n",
    "# Créer un df X avec toutes les colonnes sauf variety, pour pouvoir la prédire grâce à ces variables\n",
    "X = iris_df.drop(labels='variety', axis=1)\n",
    "\n",
    "#sépare les données en deux groupes :\n",
    "#Entraînement (80%) : pour que le modèle apprenne.\n",
    "#Test (20%) : pour évaluer s’il a bien appris.\n",
    "#random_state=42 pour le hasard, sinon on aurait toujours le même découpage (\"The Hitchhiker's Guide to the Galaxy\" de Douglas Adams)\n",
    "train_X_iris, test_X_iris, train_y_iris, test_y_iris = train_test_split(X, y, train_size=0.8, test_size=0.2, random_state=42)"
   ],
   "id": "683e4ca388fed02d",
   "outputs": [],
   "execution_count": 14
  },
  {
   "metadata": {},
   "cell_type": "markdown",
   "source": "## Dataset Titanic",
   "id": "a2a8065598449539"
  },
  {
   "metadata": {
    "ExecuteTime": {
     "end_time": "2025-07-13T14:07:40.896134Z",
     "start_time": "2025-07-13T14:07:40.891082Z"
    }
   },
   "cell_type": "code",
   "source": [
    "titanic_df = pd.read_csv(\"titanic.csv\")\n",
    "titanic_df.head()"
   ],
   "id": "dd856b8439a5df90",
   "outputs": [
    {
     "data": {
      "text/plain": [
       "   PassengerId  Survived  Pclass  \\\n",
       "0          892         0       3   \n",
       "1          893         1       3   \n",
       "2          894         0       2   \n",
       "3          895         0       3   \n",
       "4          896         1       3   \n",
       "\n",
       "                                           Name     Sex   Age  SibSp  Parch  \\\n",
       "0                              Kelly, Mr. James    male  34.5      0      0   \n",
       "1              Wilkes, Mrs. James (Ellen Needs)  female  47.0      1      0   \n",
       "2                     Myles, Mr. Thomas Francis    male  62.0      0      0   \n",
       "3                              Wirz, Mr. Albert    male  27.0      0      0   \n",
       "4  Hirvonen, Mrs. Alexander (Helga E Lindqvist)  female  22.0      1      1   \n",
       "\n",
       "    Ticket     Fare Cabin Embarked  \n",
       "0   330911   7.8292   NaN        Q  \n",
       "1   363272   7.0000   NaN        S  \n",
       "2   240276   9.6875   NaN        Q  \n",
       "3   315154   8.6625   NaN        S  \n",
       "4  3101298  12.2875   NaN        S  "
      ],
      "text/html": [
       "<div>\n",
       "<style scoped>\n",
       "    .dataframe tbody tr th:only-of-type {\n",
       "        vertical-align: middle;\n",
       "    }\n",
       "\n",
       "    .dataframe tbody tr th {\n",
       "        vertical-align: top;\n",
       "    }\n",
       "\n",
       "    .dataframe thead th {\n",
       "        text-align: right;\n",
       "    }\n",
       "</style>\n",
       "<table border=\"1\" class=\"dataframe\">\n",
       "  <thead>\n",
       "    <tr style=\"text-align: right;\">\n",
       "      <th></th>\n",
       "      <th>PassengerId</th>\n",
       "      <th>Survived</th>\n",
       "      <th>Pclass</th>\n",
       "      <th>Name</th>\n",
       "      <th>Sex</th>\n",
       "      <th>Age</th>\n",
       "      <th>SibSp</th>\n",
       "      <th>Parch</th>\n",
       "      <th>Ticket</th>\n",
       "      <th>Fare</th>\n",
       "      <th>Cabin</th>\n",
       "      <th>Embarked</th>\n",
       "    </tr>\n",
       "  </thead>\n",
       "  <tbody>\n",
       "    <tr>\n",
       "      <th>0</th>\n",
       "      <td>892</td>\n",
       "      <td>0</td>\n",
       "      <td>3</td>\n",
       "      <td>Kelly, Mr. James</td>\n",
       "      <td>male</td>\n",
       "      <td>34.5</td>\n",
       "      <td>0</td>\n",
       "      <td>0</td>\n",
       "      <td>330911</td>\n",
       "      <td>7.8292</td>\n",
       "      <td>NaN</td>\n",
       "      <td>Q</td>\n",
       "    </tr>\n",
       "    <tr>\n",
       "      <th>1</th>\n",
       "      <td>893</td>\n",
       "      <td>1</td>\n",
       "      <td>3</td>\n",
       "      <td>Wilkes, Mrs. James (Ellen Needs)</td>\n",
       "      <td>female</td>\n",
       "      <td>47.0</td>\n",
       "      <td>1</td>\n",
       "      <td>0</td>\n",
       "      <td>363272</td>\n",
       "      <td>7.0000</td>\n",
       "      <td>NaN</td>\n",
       "      <td>S</td>\n",
       "    </tr>\n",
       "    <tr>\n",
       "      <th>2</th>\n",
       "      <td>894</td>\n",
       "      <td>0</td>\n",
       "      <td>2</td>\n",
       "      <td>Myles, Mr. Thomas Francis</td>\n",
       "      <td>male</td>\n",
       "      <td>62.0</td>\n",
       "      <td>0</td>\n",
       "      <td>0</td>\n",
       "      <td>240276</td>\n",
       "      <td>9.6875</td>\n",
       "      <td>NaN</td>\n",
       "      <td>Q</td>\n",
       "    </tr>\n",
       "    <tr>\n",
       "      <th>3</th>\n",
       "      <td>895</td>\n",
       "      <td>0</td>\n",
       "      <td>3</td>\n",
       "      <td>Wirz, Mr. Albert</td>\n",
       "      <td>male</td>\n",
       "      <td>27.0</td>\n",
       "      <td>0</td>\n",
       "      <td>0</td>\n",
       "      <td>315154</td>\n",
       "      <td>8.6625</td>\n",
       "      <td>NaN</td>\n",
       "      <td>S</td>\n",
       "    </tr>\n",
       "    <tr>\n",
       "      <th>4</th>\n",
       "      <td>896</td>\n",
       "      <td>1</td>\n",
       "      <td>3</td>\n",
       "      <td>Hirvonen, Mrs. Alexander (Helga E Lindqvist)</td>\n",
       "      <td>female</td>\n",
       "      <td>22.0</td>\n",
       "      <td>1</td>\n",
       "      <td>1</td>\n",
       "      <td>3101298</td>\n",
       "      <td>12.2875</td>\n",
       "      <td>NaN</td>\n",
       "      <td>S</td>\n",
       "    </tr>\n",
       "  </tbody>\n",
       "</table>\n",
       "</div>"
      ]
     },
     "execution_count": 15,
     "metadata": {},
     "output_type": "execute_result"
    }
   ],
   "execution_count": 15
  },
  {
   "metadata": {
    "ExecuteTime": {
     "end_time": "2025-07-13T14:07:40.967863Z",
     "start_time": "2025-07-13T14:07:40.962245Z"
    }
   },
   "cell_type": "code",
   "source": [
    "from sklearn.impute import SimpleImputer\n",
    "\n",
    "# Création des nouvelles colonnes\n",
    "titanic_df['FamilyNb'] = titanic_df['SibSp'] + titanic_df['Parch']\n",
    "titanic_df['Alone'] = (titanic_df['FamilyNb'] == 0)\n",
    "\n",
    "# transformes les colonnes Sex et Embarked (qui sont catégorielles) en variables numériques binaires\n",
    "sex_df = pd.get_dummies(titanic_df['Sex'], prefix='sex', drop_first=True) #drop_first pour éviter de créer deux colonnes\n",
    "embarked_df = pd.get_dummies(titanic_df['Embarked'], prefix='embarked', dummy_na=True) # Créer une colonne par catégorie\n",
    "titanic_df = pd.concat([titanic_df, embarked_df, sex_df], axis=1)\n",
    "\n",
    "# Suppression des colonnes non utilisées\n",
    "titanic_df.drop(['PassengerId', 'Name', 'Ticket', 'Cabin',\n",
    "'SibSp', 'Parch', 'Sex', 'Embarked'], axis=1, inplace=True) # inplace remplace le df original\n",
    "\n",
    "# Séparation train-test\n",
    "y = titanic_df['Survived']\n",
    "X = titanic_df.drop(['Survived'], axis=1)\n",
    "train_X_titanic, test_X_titanic, train_y_titanic, test_y_titanic = (train_test_split(X, y, train_size=0.8, test_size=0.2, random_state=42))\n",
    "\n",
    "# Imputation des données manquantes\n",
    "col_names = train_X_titanic.columns\n",
    "titanic_imputer = SimpleImputer(strategy='mean')\n",
    "titanic_imputer.fit(train_X_titanic)\n",
    "train_X_titanic = titanic_imputer.transform(train_X_titanic)\n",
    "test_X_titanic = titanic_imputer.transform(test_X_titanic)\n",
    "\n",
    "# /!\\ : En raison du passage par Scikit, les datasets sont maintenant des numpy.array et non des DataFrame Pandas !\n",
    "# Il faut recréer les DataFrame pour garder les noms des colonnes\n",
    "train_X_titanic = pd.DataFrame(data=train_X_titanic, columns=col_names)\n",
    "test_X_titanic = pd.DataFrame(data=test_X_titanic, columns=col_names)"
   ],
   "id": "a4d3f48b95d67f69",
   "outputs": [],
   "execution_count": 16
  },
  {
   "metadata": {
    "ExecuteTime": {
     "end_time": "2025-07-13T14:07:41.085356Z",
     "start_time": "2025-07-13T14:07:41.082121Z"
    }
   },
   "cell_type": "code",
   "source": "titanic_df.head()",
   "id": "d75e8ccfdf0c744d",
   "outputs": [
    {
     "data": {
      "text/plain": [
       "   Survived  Pclass   Age     Fare  FamilyNb  Alone  embarked_C  embarked_Q  \\\n",
       "0         0       3  34.5   7.8292         0   True       False        True   \n",
       "1         1       3  47.0   7.0000         1  False       False       False   \n",
       "2         0       2  62.0   9.6875         0   True       False        True   \n",
       "3         0       3  27.0   8.6625         0   True       False       False   \n",
       "4         1       3  22.0  12.2875         2  False       False       False   \n",
       "\n",
       "   embarked_S  embarked_nan  sex_male  \n",
       "0       False         False      True  \n",
       "1        True         False     False  \n",
       "2       False         False      True  \n",
       "3        True         False      True  \n",
       "4        True         False     False  "
      ],
      "text/html": [
       "<div>\n",
       "<style scoped>\n",
       "    .dataframe tbody tr th:only-of-type {\n",
       "        vertical-align: middle;\n",
       "    }\n",
       "\n",
       "    .dataframe tbody tr th {\n",
       "        vertical-align: top;\n",
       "    }\n",
       "\n",
       "    .dataframe thead th {\n",
       "        text-align: right;\n",
       "    }\n",
       "</style>\n",
       "<table border=\"1\" class=\"dataframe\">\n",
       "  <thead>\n",
       "    <tr style=\"text-align: right;\">\n",
       "      <th></th>\n",
       "      <th>Survived</th>\n",
       "      <th>Pclass</th>\n",
       "      <th>Age</th>\n",
       "      <th>Fare</th>\n",
       "      <th>FamilyNb</th>\n",
       "      <th>Alone</th>\n",
       "      <th>embarked_C</th>\n",
       "      <th>embarked_Q</th>\n",
       "      <th>embarked_S</th>\n",
       "      <th>embarked_nan</th>\n",
       "      <th>sex_male</th>\n",
       "    </tr>\n",
       "  </thead>\n",
       "  <tbody>\n",
       "    <tr>\n",
       "      <th>0</th>\n",
       "      <td>0</td>\n",
       "      <td>3</td>\n",
       "      <td>34.5</td>\n",
       "      <td>7.8292</td>\n",
       "      <td>0</td>\n",
       "      <td>True</td>\n",
       "      <td>False</td>\n",
       "      <td>True</td>\n",
       "      <td>False</td>\n",
       "      <td>False</td>\n",
       "      <td>True</td>\n",
       "    </tr>\n",
       "    <tr>\n",
       "      <th>1</th>\n",
       "      <td>1</td>\n",
       "      <td>3</td>\n",
       "      <td>47.0</td>\n",
       "      <td>7.0000</td>\n",
       "      <td>1</td>\n",
       "      <td>False</td>\n",
       "      <td>False</td>\n",
       "      <td>False</td>\n",
       "      <td>True</td>\n",
       "      <td>False</td>\n",
       "      <td>False</td>\n",
       "    </tr>\n",
       "    <tr>\n",
       "      <th>2</th>\n",
       "      <td>0</td>\n",
       "      <td>2</td>\n",
       "      <td>62.0</td>\n",
       "      <td>9.6875</td>\n",
       "      <td>0</td>\n",
       "      <td>True</td>\n",
       "      <td>False</td>\n",
       "      <td>True</td>\n",
       "      <td>False</td>\n",
       "      <td>False</td>\n",
       "      <td>True</td>\n",
       "    </tr>\n",
       "    <tr>\n",
       "      <th>3</th>\n",
       "      <td>0</td>\n",
       "      <td>3</td>\n",
       "      <td>27.0</td>\n",
       "      <td>8.6625</td>\n",
       "      <td>0</td>\n",
       "      <td>True</td>\n",
       "      <td>False</td>\n",
       "      <td>False</td>\n",
       "      <td>True</td>\n",
       "      <td>False</td>\n",
       "      <td>True</td>\n",
       "    </tr>\n",
       "    <tr>\n",
       "      <th>4</th>\n",
       "      <td>1</td>\n",
       "      <td>3</td>\n",
       "      <td>22.0</td>\n",
       "      <td>12.2875</td>\n",
       "      <td>2</td>\n",
       "      <td>False</td>\n",
       "      <td>False</td>\n",
       "      <td>False</td>\n",
       "      <td>True</td>\n",
       "      <td>False</td>\n",
       "      <td>False</td>\n",
       "    </tr>\n",
       "  </tbody>\n",
       "</table>\n",
       "</div>"
      ]
     },
     "execution_count": 17,
     "metadata": {},
     "output_type": "execute_result"
    }
   ],
   "execution_count": 17
  },
  {
   "metadata": {},
   "cell_type": "markdown",
   "source": "## Dataset Boston",
   "id": "7d36b7f0f2ea931"
  },
  {
   "metadata": {
    "ExecuteTime": {
     "end_time": "2025-07-13T14:07:41.156181Z",
     "start_time": "2025-07-13T14:07:41.151459Z"
    }
   },
   "cell_type": "code",
   "source": [
    "boston_df = pd.read_csv(\"boston.csv\")\n",
    "boston_df.head()\n"
   ],
   "id": "d0a0c9c3dbe34db4",
   "outputs": [
    {
     "data": {
      "text/plain": [
       "   Unnamed: 0     crim    zn  indus  chas    nox     rm   age     dis  rad  \\\n",
       "0           1  0.00632  18.0   2.31     0  0.538  6.575  65.2  4.0900    1   \n",
       "1           2  0.02731   0.0   7.07     0  0.469  6.421  78.9  4.9671    2   \n",
       "2           3  0.02729   0.0   7.07     0  0.469  7.185  61.1  4.9671    2   \n",
       "3           4  0.03237   0.0   2.18     0  0.458  6.998  45.8  6.0622    3   \n",
       "4           5  0.06905   0.0   2.18     0  0.458  7.147  54.2  6.0622    3   \n",
       "\n",
       "   tax  ptratio   black  lstat  medv  \n",
       "0  296     15.3  396.90   4.98  24.0  \n",
       "1  242     17.8  396.90   9.14  21.6  \n",
       "2  242     17.8  392.83   4.03  34.7  \n",
       "3  222     18.7  394.63   2.94  33.4  \n",
       "4  222     18.7  396.90   5.33  36.2  "
      ],
      "text/html": [
       "<div>\n",
       "<style scoped>\n",
       "    .dataframe tbody tr th:only-of-type {\n",
       "        vertical-align: middle;\n",
       "    }\n",
       "\n",
       "    .dataframe tbody tr th {\n",
       "        vertical-align: top;\n",
       "    }\n",
       "\n",
       "    .dataframe thead th {\n",
       "        text-align: right;\n",
       "    }\n",
       "</style>\n",
       "<table border=\"1\" class=\"dataframe\">\n",
       "  <thead>\n",
       "    <tr style=\"text-align: right;\">\n",
       "      <th></th>\n",
       "      <th>Unnamed: 0</th>\n",
       "      <th>crim</th>\n",
       "      <th>zn</th>\n",
       "      <th>indus</th>\n",
       "      <th>chas</th>\n",
       "      <th>nox</th>\n",
       "      <th>rm</th>\n",
       "      <th>age</th>\n",
       "      <th>dis</th>\n",
       "      <th>rad</th>\n",
       "      <th>tax</th>\n",
       "      <th>ptratio</th>\n",
       "      <th>black</th>\n",
       "      <th>lstat</th>\n",
       "      <th>medv</th>\n",
       "    </tr>\n",
       "  </thead>\n",
       "  <tbody>\n",
       "    <tr>\n",
       "      <th>0</th>\n",
       "      <td>1</td>\n",
       "      <td>0.00632</td>\n",
       "      <td>18.0</td>\n",
       "      <td>2.31</td>\n",
       "      <td>0</td>\n",
       "      <td>0.538</td>\n",
       "      <td>6.575</td>\n",
       "      <td>65.2</td>\n",
       "      <td>4.0900</td>\n",
       "      <td>1</td>\n",
       "      <td>296</td>\n",
       "      <td>15.3</td>\n",
       "      <td>396.90</td>\n",
       "      <td>4.98</td>\n",
       "      <td>24.0</td>\n",
       "    </tr>\n",
       "    <tr>\n",
       "      <th>1</th>\n",
       "      <td>2</td>\n",
       "      <td>0.02731</td>\n",
       "      <td>0.0</td>\n",
       "      <td>7.07</td>\n",
       "      <td>0</td>\n",
       "      <td>0.469</td>\n",
       "      <td>6.421</td>\n",
       "      <td>78.9</td>\n",
       "      <td>4.9671</td>\n",
       "      <td>2</td>\n",
       "      <td>242</td>\n",
       "      <td>17.8</td>\n",
       "      <td>396.90</td>\n",
       "      <td>9.14</td>\n",
       "      <td>21.6</td>\n",
       "    </tr>\n",
       "    <tr>\n",
       "      <th>2</th>\n",
       "      <td>3</td>\n",
       "      <td>0.02729</td>\n",
       "      <td>0.0</td>\n",
       "      <td>7.07</td>\n",
       "      <td>0</td>\n",
       "      <td>0.469</td>\n",
       "      <td>7.185</td>\n",
       "      <td>61.1</td>\n",
       "      <td>4.9671</td>\n",
       "      <td>2</td>\n",
       "      <td>242</td>\n",
       "      <td>17.8</td>\n",
       "      <td>392.83</td>\n",
       "      <td>4.03</td>\n",
       "      <td>34.7</td>\n",
       "    </tr>\n",
       "    <tr>\n",
       "      <th>3</th>\n",
       "      <td>4</td>\n",
       "      <td>0.03237</td>\n",
       "      <td>0.0</td>\n",
       "      <td>2.18</td>\n",
       "      <td>0</td>\n",
       "      <td>0.458</td>\n",
       "      <td>6.998</td>\n",
       "      <td>45.8</td>\n",
       "      <td>6.0622</td>\n",
       "      <td>3</td>\n",
       "      <td>222</td>\n",
       "      <td>18.7</td>\n",
       "      <td>394.63</td>\n",
       "      <td>2.94</td>\n",
       "      <td>33.4</td>\n",
       "    </tr>\n",
       "    <tr>\n",
       "      <th>4</th>\n",
       "      <td>5</td>\n",
       "      <td>0.06905</td>\n",
       "      <td>0.0</td>\n",
       "      <td>2.18</td>\n",
       "      <td>0</td>\n",
       "      <td>0.458</td>\n",
       "      <td>7.147</td>\n",
       "      <td>54.2</td>\n",
       "      <td>6.0622</td>\n",
       "      <td>3</td>\n",
       "      <td>222</td>\n",
       "      <td>18.7</td>\n",
       "      <td>396.90</td>\n",
       "      <td>5.33</td>\n",
       "      <td>36.2</td>\n",
       "    </tr>\n",
       "  </tbody>\n",
       "</table>\n",
       "</div>"
      ]
     },
     "execution_count": 18,
     "metadata": {},
     "output_type": "execute_result"
    }
   ],
   "execution_count": 18
  },
  {
   "metadata": {
    "ExecuteTime": {
     "end_time": "2025-07-13T14:36:58.271644Z",
     "start_time": "2025-07-13T14:36:58.268867Z"
    }
   },
   "cell_type": "code",
   "outputs": [],
   "execution_count": 21,
   "source": [
    "y = boston_df['medv']\n",
    "X = boston_df.drop(labels='medv', axis=1)\n",
    "train_X_boston, test_X_boston, train_y_boston, test_y_boston =  train_test_split(X, y, train_size=0.8, test_size=0.2, random_state=42)"
   ],
   "id": "edbfc1006ca5763e"
  },
  {
   "metadata": {},
   "cell_type": "markdown",
   "source": [
    "# Création des modèles\n",
    "## modèle en Scikit-learn"
   ],
   "id": "709dca4dfea3c5fa"
  },
  {
   "metadata": {
    "ExecuteTime": {
     "end_time": "2025-07-13T16:04:45.197857Z",
     "start_time": "2025-07-13T16:04:45.194877Z"
    }
   },
   "cell_type": "code",
   "source": [
    "from sklearn.tree import DecisionTreeClassifier\n",
    "\n",
    "tree_classifier = DecisionTreeClassifier(max_depth=3, random_state=42)\n",
    "tree_classifier.fit(train_X_iris, train_y_iris)\n",
    "pred_y_iris = tree_classifier.predict(test_X_iris)"
   ],
   "id": "d4bf0bf6817579ec",
   "outputs": [],
   "execution_count": 24
  },
  {
   "metadata": {},
   "cell_type": "markdown",
   "source": "## Évaluation du modèle en Scikit-learn",
   "id": "64c39ccc442713ff"
  },
  {
   "metadata": {
    "ExecuteTime": {
     "end_time": "2025-07-13T16:05:42.158795Z",
     "start_time": "2025-07-13T16:05:42.156141Z"
    }
   },
   "cell_type": "code",
   "source": [
    "from sklearn.metrics import accuracy_score\n",
    "\n",
    "accuracy_score(test_y_iris, pred_y_iris)"
   ],
   "id": "30793c2c22fab347",
   "outputs": [
    {
     "data": {
      "text/plain": [
       "1.0"
      ]
     },
     "execution_count": 25,
     "metadata": {},
     "output_type": "execute_result"
    }
   ],
   "execution_count": 25
  },
  {
   "metadata": {},
   "cell_type": "markdown",
   "source": "## Validation croisée",
   "id": "4077de31c65170d0"
  },
  {
   "metadata": {
    "ExecuteTime": {
     "end_time": "2025-07-13T16:13:41.481025Z",
     "start_time": "2025-07-13T16:13:41.467271Z"
    }
   },
   "cell_type": "code",
   "source": [
    "from sklearn.model_selection import cross_validate\n",
    "from sklearn.tree import DecisionTreeClassifier\n",
    "\n",
    "tree_classifier = DecisionTreeClassifier(max_depth=3, random_state=42)\n",
    "scores = cross_validate(tree_classifier, train_X_iris,\n",
    "train_y_iris, cv=5, scoring=['accuracy', 'f1_macro'])"
   ],
   "id": "f66ecc86d82977b4",
   "outputs": [],
   "execution_count": 26
  },
  {
   "metadata": {
    "ExecuteTime": {
     "end_time": "2025-07-13T16:13:42.596374Z",
     "start_time": "2025-07-13T16:13:42.594522Z"
    }
   },
   "cell_type": "code",
   "source": "print(scores['test_accuracy'])",
   "id": "aa26952136dee8ad",
   "outputs": [
    {
     "name": "stdout",
     "output_type": "stream",
     "text": [
      "[0.95833333 1.         0.83333333 0.95833333 0.91666667]\n"
     ]
    }
   ],
   "execution_count": 27
  },
  {
   "metadata": {},
   "cell_type": "markdown",
   "source": "## Sauvegarde et chargement d’un modèle",
   "id": "ff632612c0a3ee68"
  },
  {
   "metadata": {
    "ExecuteTime": {
     "end_time": "2025-07-13T16:36:07.080721Z",
     "start_time": "2025-07-13T16:36:07.078951Z"
    }
   },
   "cell_type": "code",
   "source": [
    "import pickle\n",
    "filename = 'iris_pickle.bak'\n",
    "pickle.dump(tree_classifier, open(filename, 'wb'))\n",
    "# Pour récupérer le modèle dans un autre code Python, il suffit de le charger à partir du fichier :\n",
    "# old_model = pickle.load(open(filename, 'rb'))\n"
   ],
   "id": "23de31ac45b06808",
   "outputs": [],
   "execution_count": 35
  },
  {
   "metadata": {},
   "cell_type": "markdown",
   "source": [
    "# Fine-Tuning\n",
    "## Optimisation des hyperparamètres\n",
    "Les principales stratégies sont :\n",
    "1. la recherche dans une grille (**grid search**) : pour chaque hyperparamètre, un nombre donné de valeurs est fourni, et la recherche essaiera toutes les combinaisons possibles ;\n",
    "2. la recherche aléatoire (**random search**) : seul un sous-ensemble des combinaisons possibles sera testé. La recherche aléatoire peut prendre ses valeurs parmi des listes fournies ou en les sélectionnant sur des intervalles continus ;\n",
    "3. la recherche par gradient (**gradient-based optimization**) : en fonction des résultats obtenus sur différents ensembles, la recherche sera guidée dans le sens du gradient vers l’optimisation de la métrique choisie.\n",
    "\n",
    "![image.png](attachment:d2fd97d5-254f-453a-9226-9664d1a6e8f7.png)"
   ],
   "id": "eb174d7e55161d72",
   "attachments": {
    "d2fd97d5-254f-453a-9226-9664d1a6e8f7.png": {
     "image/png": "[encoded data removed]"
    }
   }
  },
  {
   "metadata": {},
   "cell_type": "code",
   "outputs": [],
   "execution_count": null,
   "source": "",
   "id": "3dd5014d14c057eb"
  }
 ],
 "metadata": {
  "kernelspec": {
   "display_name": "Python 3",
   "language": "python",
   "name": "python3"
  },
  "language_info": {
   "codemirror_mode": {
    "name": "ipython",
    "version": 2
   },
   "file_extension": ".py",
   "mimetype": "text/x-python",
   "name": "python",
   "nbconvert_exporter": "python",
   "pygments_lexer": "ipython2",
   "version": "2.7.6"
  }
 },
 "nbformat": 4,
 "nbformat_minor": 5
}
