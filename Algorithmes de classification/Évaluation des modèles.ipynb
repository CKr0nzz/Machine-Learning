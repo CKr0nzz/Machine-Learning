{
 "cells": [
  {
   "metadata": {},
   "cell_type": "markdown",
   "source": [
    "# Évaluation des modèles\n",
    "\n",
    "Il existe de nombreux algorithmes de classification en Machine Learning:\n",
    "https://scikit-learn.org/stable/user_guide.html\n",
    "\n",
    "\n",
    "Avec Scikit-learn, le processus est toujours le même :\n",
    "1. Créer un modèle en lui indiquant les paramètres souhaités. Dans le cas de la classification, la classe sera un classifier (dans l’exemple, il s’agit d’un TreeClassifier, c’est-à-dire un arbre de décision).\n",
    "2. Faire l’apprentissage grâce à fit, en lui fournissant les données X et y d’apprentissage (il est possible d’utiliser de la validation croisée ou une optimisation des hyperparamètres (voir Modélisation et évaluation)\n",
    "3. Prédire les résultats sur le dataset souhaité grâce à predict.\n",
    "4. Appeler les différentes métriques souhaitées présentes dans sklearn.metrics avec en paramètres les résultats attendus et les données prédites.\n",
    "\n",
    "\n"
   ],
   "id": "3e2ce096b161cd75"
  },
  {
   "cell_type": "code",
   "id": "initial_id",
   "metadata": {
    "collapsed": true,
    "ExecuteTime": {
     "end_time": "2025-07-18T20:18:25.052261Z",
     "start_time": "2025-07-18T20:18:25.046102Z"
    }
   },
   "source": [
    "import pandas as pd\n",
    "from sklearn.tree import DecisionTreeClassifier\n",
    "from sklearn.metrics import confusion_matrix, accuracy_score\n",
    "from sklearn.datasets import load_iris\n",
    "from sklearn.model_selection import train_test_split\n",
    "\n",
    "# Chargement du dataset Iris\n",
    "iris_df = pd.read_csv('iris.csv')\n",
    "y = iris_df['variety']\n",
    "X = iris_df.drop(labels='variety', axis=1)\n",
    "\n",
    "# Chargement des données\n",
    "train_X, test_X, train_y, test_y = train_test_split(X, y, test_size=0.3, random_state=42)\n",
    "\n",
    "# Création d'un modèle\n",
    "classifier = DecisionTreeClassifier(max_depth=2, random_state=42)\n",
    "\n",
    "# Fit du modèle\n",
    "classifier.fit(train_X, train_y)\n",
    "\n",
    "# Prédiction\n",
    "pred_y = classifier.predict(test_X)\n",
    "\n",
    "# Evaluation\n",
    "print(confusion_matrix(test_y, pred_y))\n",
    "print(accuracy_score(test_y, pred_y))"
   ],
   "outputs": [
    {
     "name": "stdout",
     "output_type": "stream",
     "text": [
      "[[19  0  0]\n",
      " [ 0 12  1]\n",
      " [ 0  0 13]]\n",
      "0.9777777777777777\n"
     ]
    }
   ],
   "execution_count": 35
  },
  {
   "metadata": {
    "ExecuteTime": {
     "end_time": "2025-07-18T20:15:29.160670Z",
     "start_time": "2025-07-18T20:15:29.158359Z"
    }
   },
   "cell_type": "code",
   "source": "iris_df.iloc[:, 4].nunique()\n",
   "id": "51448cb8976898f0",
   "outputs": [
    {
     "data": {
      "text/plain": [
       "3"
      ]
     },
     "execution_count": 32,
     "metadata": {},
     "output_type": "execute_result"
    }
   ],
   "execution_count": 32
  },
  {
   "metadata": {
    "ExecuteTime": {
     "end_time": "2025-07-18T20:16:49.495170Z",
     "start_time": "2025-07-18T20:16:49.491136Z"
    }
   },
   "cell_type": "code",
   "source": "iris_df.head()",
   "id": "dd0bbc954e9263be",
   "outputs": [
    {
     "data": {
      "text/plain": [
       "   sepal.length  sepal.width  petal.length  petal.width variety\n",
       "0           5.1          3.5           1.4          0.2  Setosa\n",
       "1           4.9          3.0           1.4          0.2  Setosa\n",
       "2           4.7          3.2           1.3          0.2  Setosa\n",
       "3           4.6          3.1           1.5          0.2  Setosa\n",
       "4           5.0          3.6           1.4          0.2  Setosa"
      ],
      "text/html": [
       "<div>\n",
       "<style scoped>\n",
       "    .dataframe tbody tr th:only-of-type {\n",
       "        vertical-align: middle;\n",
       "    }\n",
       "\n",
       "    .dataframe tbody tr th {\n",
       "        vertical-align: top;\n",
       "    }\n",
       "\n",
       "    .dataframe thead th {\n",
       "        text-align: right;\n",
       "    }\n",
       "</style>\n",
       "<table border=\"1\" class=\"dataframe\">\n",
       "  <thead>\n",
       "    <tr style=\"text-align: right;\">\n",
       "      <th></th>\n",
       "      <th>sepal.length</th>\n",
       "      <th>sepal.width</th>\n",
       "      <th>petal.length</th>\n",
       "      <th>petal.width</th>\n",
       "      <th>variety</th>\n",
       "    </tr>\n",
       "  </thead>\n",
       "  <tbody>\n",
       "    <tr>\n",
       "      <th>0</th>\n",
       "      <td>5.1</td>\n",
       "      <td>3.5</td>\n",
       "      <td>1.4</td>\n",
       "      <td>0.2</td>\n",
       "      <td>Setosa</td>\n",
       "    </tr>\n",
       "    <tr>\n",
       "      <th>1</th>\n",
       "      <td>4.9</td>\n",
       "      <td>3.0</td>\n",
       "      <td>1.4</td>\n",
       "      <td>0.2</td>\n",
       "      <td>Setosa</td>\n",
       "    </tr>\n",
       "    <tr>\n",
       "      <th>2</th>\n",
       "      <td>4.7</td>\n",
       "      <td>3.2</td>\n",
       "      <td>1.3</td>\n",
       "      <td>0.2</td>\n",
       "      <td>Setosa</td>\n",
       "    </tr>\n",
       "    <tr>\n",
       "      <th>3</th>\n",
       "      <td>4.6</td>\n",
       "      <td>3.1</td>\n",
       "      <td>1.5</td>\n",
       "      <td>0.2</td>\n",
       "      <td>Setosa</td>\n",
       "    </tr>\n",
       "    <tr>\n",
       "      <th>4</th>\n",
       "      <td>5.0</td>\n",
       "      <td>3.6</td>\n",
       "      <td>1.4</td>\n",
       "      <td>0.2</td>\n",
       "      <td>Setosa</td>\n",
       "    </tr>\n",
       "  </tbody>\n",
       "</table>\n",
       "</div>"
      ]
     },
     "execution_count": 34,
     "metadata": {},
     "output_type": "execute_result"
    }
   ],
   "execution_count": 34
  },
  {
   "metadata": {},
   "cell_type": "markdown",
   "source": [
    "# Interprétation\n",
    "Ce modèle apprend à prédire à quelle espèce appartient une fleur en se basant sur les mesures des sépales et des pétales:\n",
    "Setosa (0)\n",
    "Versicolor (1)\n",
    "Virginica (2)\n",
    "\n",
    "Lignes = Réalité (ce que la fleur est vraiment)\n",
    "Colonnes = Prédiction du modèle\n",
    "\n",
    "Donc, comme on peut voir ici:\n",
    "![image.png](attachment:c5520beb-6e4b-48cf-ba87-6a3714dba159.png)\n",
    "\n",
    "Le modèle a pu prédire:\n",
    "19 fleurs réellement Setosa (0) -> toutes bien classées.\n",
    "13 fleurs réellement Versicolor (1) -> 12 bien classées, 1 mal classée (Virginica).\n",
    "13 fleurs réellement Virginica (2) -> toutes bien classées.\n",
    "\n",
    "On a donc une précision de 44/45 ou 97.78%, ce qui est excellent\n",
    "\n",
    "# DecisionTreeClassifier\n",
    "L’arbre construit des règles du genre :\n",
    "if PetalLength < 2.45:\n",
    "    return Setosa\n",
    "elif PetalWidth < 1.75:\n",
    "    return Versicolor\n",
    "else:\n",
    "    return Virginica\n",
    "\n",
    "\n",
    "\n",
    "\n"
   ],
   "id": "11e648c8ee48e6c8",
   "attachments": {
    "c5520beb-6e4b-48cf-ba87-6a3714dba159.png": {
     "image/png": "[encoded data removed]"
    }
   }
  },
  {
   "metadata": {
    "ExecuteTime": {
     "end_time": "2025-07-18T20:18:54.265261Z",
     "start_time": "2025-07-18T20:18:54.263865Z"
    }
   },
   "cell_type": "code",
   "source": "",
   "id": "dba21cb54997fd08",
   "outputs": [],
   "execution_count": null
  },
  {
   "metadata": {},
   "cell_type": "code",
   "outputs": [],
   "execution_count": null,
   "source": "",
   "id": "23a60418956da461"
  }
 ],
 "metadata": {
  "kernelspec": {
   "display_name": "Python 3",
   "language": "python",
   "name": "python3"
  },
  "language_info": {
   "codemirror_mode": {
    "name": "ipython",
    "version": 2
   },
   "file_extension": ".py",
   "mimetype": "text/x-python",
   "name": "python",
   "nbconvert_exporter": "python",
   "pygments_lexer": "ipython2",
   "version": "2.7.6"
  }
 },
 "nbformat": 4,
 "nbformat_minor": 5
}
